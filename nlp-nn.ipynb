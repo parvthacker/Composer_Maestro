{
    "cells": [
        {
            "cell_type": "markdown",
            "metadata": {},
            "source": [
                "# Part 3 - Neural Network based Natural Language Processing"
            ]
        },
        {
            "cell_type": "markdown",
            "metadata": {},
            "source": [
                "# Imports"
            ]
        },
        {
            "cell_type": "code",
            "execution_count": 2,
            "metadata": {
                "execution": {
                    "iopub.execute_input": "2024-04-21T06:27:11.172822Z",
                    "iopub.status.busy": "2024-04-21T06:27:11.171952Z",
                    "iopub.status.idle": "2024-04-21T06:27:15.490791Z",
                    "shell.execute_reply": "2024-04-21T06:27:15.490012Z",
                    "shell.execute_reply.started": "2024-04-21T06:27:11.172787Z"
                },
                "trusted": true
            },
            "outputs": [
                {
                    "name": "stderr",
                    "output_type": "stream",
                    "text": []
                }
            ],
            "source": [
                "import pandas as pd\n",
                "import numpy as np\n",
                "import seaborn as sns\n",
                "import matplotlib.pyplot as plt\n",
                "\n",
                "from tensorflow.keras.preprocessing.sequence import pad_sequences\n",
                "\n",
                "\n",
                "from sklearn.model_selection import train_test_split\n",
                "from sklearn.metrics import accuracy_score\n",
                "from sklearn.model_selection import GridSearchCV, ShuffleSplit\n",
                "from sklearn.metrics import classification_report, confusion_matrix\n",
                "\n",
                "from xgboost import XGBClassifier\n",
                "from sklearn.tree import DecisionTreeClassifier\n",
                "from sklearn.ensemble import RandomForestClassifier\n",
                "from sklearn.neural_network import MLPClassifier"
            ]
        },
        {
            "cell_type": "markdown",
            "metadata": {},
            "source": [
                "# Preprocessing"
            ]
        },
        {
            "cell_type": "code",
            "execution_count": 3,
            "metadata": {
                "execution": {
                    "iopub.execute_input": "2024-04-21T06:27:15.493014Z",
                    "iopub.status.busy": "2024-04-21T06:27:15.492505Z",
                    "iopub.status.idle": "2024-04-21T06:27:16.097431Z",
                    "shell.execute_reply": "2024-04-21T06:27:16.096466Z",
                    "shell.execute_reply.started": "2024-04-21T06:27:15.492988Z"
                },
                "trusted": true
            },
            "outputs": [],
            "source": [
                "dfx = pd.read_csv(\"/kaggle/input/maestro-midi-notes-tsv/out.tsv\", sep='\\t')"
            ]
        },
        {
            "cell_type": "code",
            "execution_count": 4,
            "metadata": {
                "execution": {
                    "iopub.execute_input": "2024-04-21T06:27:16.099181Z",
                    "iopub.status.busy": "2024-04-21T06:27:16.098852Z",
                    "iopub.status.idle": "2024-04-21T06:27:16.109355Z",
                    "shell.execute_reply": "2024-04-21T06:27:16.108174Z",
                    "shell.execute_reply.started": "2024-04-21T06:27:16.099154Z"
                },
                "trusted": true
            },
            "outputs": [],
            "source": [
                "df = dfx.copy()\n",
                "# df = dfx.head(10)\n",
                "\n",
                "# Extract features (notes) and labels (composers)\n",
                "features = df['notes'].tolist()\n",
                "labels = df.drop('notes', axis=1)\n",
                "\n",
                "# Split the data into training and testing sets\n",
                "X_train, X_test, y_train, y_test = train_test_split(features, labels, test_size=0.2, random_state=42)\n"
            ]
        },
        {
            "cell_type": "code",
            "execution_count": 5,
            "metadata": {
                "execution": {
                    "iopub.execute_input": "2024-04-21T06:27:16.112310Z",
                    "iopub.status.busy": "2024-04-21T06:27:16.111891Z",
                    "iopub.status.idle": "2024-04-21T06:28:05.586060Z",
                    "shell.execute_reply": "2024-04-21T06:28:05.585243Z",
                    "shell.execute_reply.started": "2024-04-21T06:27:16.112280Z"
                },
                "trusted": true
            },
            "outputs": [],
            "source": [
                "import ast\n",
                "features = df['notes'].apply(ast.literal_eval).tolist()"
            ]
        },
        {
            "cell_type": "code",
            "execution_count": 6,
            "metadata": {
                "execution": {
                    "iopub.execute_input": "2024-04-21T06:28:05.587650Z",
                    "iopub.status.busy": "2024-04-21T06:28:05.587294Z",
                    "iopub.status.idle": "2024-04-21T06:28:05.595817Z",
                    "shell.execute_reply": "2024-04-21T06:28:05.595043Z",
                    "shell.execute_reply.started": "2024-04-21T06:28:05.587619Z"
                },
                "trusted": true
            },
            "outputs": [],
            "source": [
                "X_train, X_test, y_train, y_test = train_test_split(features, labels, test_size=0.2, random_state=42)"
            ]
        },
        {
            "cell_type": "code",
            "execution_count": 7,
            "metadata": {
                "execution": {
                    "iopub.execute_input": "2024-04-21T06:28:05.597170Z",
                    "iopub.status.busy": "2024-04-21T06:28:05.596868Z",
                    "iopub.status.idle": "2024-04-21T06:28:06.610814Z",
                    "shell.execute_reply": "2024-04-21T06:28:06.609734Z",
                    "shell.execute_reply.started": "2024-04-21T06:28:05.597131Z"
                },
                "trusted": true
            },
            "outputs": [],
            "source": [
                "# Padding\n",
                "max_length = max(len(seq) for seq in X_train)\n",
                "X_train_padded = pad_sequences(X_train, maxlen=max_length, padding='post')\n",
                "X_test_padded = pad_sequences(X_test, maxlen=max_length, padding='post')\n",
                "\n",
                "# Shuffle and Split\n",
                "cv = ShuffleSplit(n_splits=5, test_size=0.2, random_state=42)"
            ]
        },
        {
            "cell_type": "markdown",
            "metadata": {},
            "source": [
                "# RNN & LSTM"
            ]
        },
        {
            "cell_type": "code",
            "execution_count": 8,
            "metadata": {
                "execution": {
                    "iopub.execute_input": "2024-04-21T06:28:06.612353Z",
                    "iopub.status.busy": "2024-04-21T06:28:06.612016Z",
                    "iopub.status.idle": "2024-04-21T06:28:06.620317Z",
                    "shell.execute_reply": "2024-04-21T06:28:06.619226Z",
                    "shell.execute_reply.started": "2024-04-21T06:28:06.612327Z"
                },
                "trusted": true
            },
            "outputs": [],
            "source": [
                "from tensorflow.keras.models import Sequential\n",
                "from tensorflow.keras.layers import LSTM, Dense, Embedding, SimpleRNN, Bidirectional\n",
                "\n",
                "X_train_padded_ = X_train_padded.reshape(X_train_padded.shape[0], X_train_padded.shape[1], 1)\n",
                "X_test_padded_ = X_test_padded.reshape(X_test_padded.shape[0], X_test_padded.shape[1], 1)"
            ]
        },
        {
            "cell_type": "markdown",
            "metadata": {},
            "source": [
                "## Simple RNN"
            ]
        },
        {
            "cell_type": "code",
            "execution_count": 19,
            "metadata": {
                "execution": {
                    "iopub.execute_input": "2024-04-21T05:53:14.866375Z",
                    "iopub.status.busy": "2024-04-21T05:53:14.865652Z",
                    "iopub.status.idle": "2024-04-21T05:55:17.297639Z",
                    "shell.execute_reply": "2024-04-21T05:55:17.296675Z",
                    "shell.execute_reply.started": "2024-04-21T05:53:14.866338Z"
                },
                "trusted": true
            },
            "outputs": [
                {
                    "name": "stdout",
                    "output_type": "stream",
                    "text": [
                        "Epoch 1/3\n"
                    ]
                },
                {
                    "name": "stderr",
                    "output_type": "stream",
                    "text": [
                        "WARNING: All log messages before absl::InitializeLog() is called are written to STDERR\n",
                        "I0000 00:00:1713678797.863871     367 device_compiler.h:186] Compiled cluster using XLA!  This line is logged at most once for the lifetime of the process.\n"
                    ]
                },
                {
                    "name": "stdout",
                    "output_type": "stream",
                    "text": [
                        "\u001b[1m4/4\u001b[0m \u001b[32m━━━━━━━━━━━━━━━━━━━━\u001b[0m\u001b[37m\u001b[0m \u001b[1m16s\u001b[0m 4s/step - accuracy: 0.6362 - loss: 0.6114 - val_accuracy: 0.6404 - val_loss: 0.5312\n",
                        "Epoch 2/3\n",
                        "\u001b[1m4/4\u001b[0m \u001b[32m━━━━━━━━━━━━━━━━━━━━\u001b[0m\u001b[37m\u001b[0m \u001b[1m12s\u001b[0m 3s/step - accuracy: 0.6731 - loss: 0.4235 - val_accuracy: 0.6424 - val_loss: 0.4665\n",
                        "Epoch 3/3\n",
                        "\u001b[1m4/4\u001b[0m \u001b[32m━━━━━━━━━━━━━━━━━━━━\u001b[0m\u001b[37m\u001b[0m \u001b[1m12s\u001b[0m 3s/step - accuracy: 0.6852 - loss: 0.3654 - val_accuracy: 0.6732 - val_loss: 0.3857\n"
                    ]
                },
                {
                    "data": {
                        "text/plain": [
                            "<keras.src.callbacks.history.History at 0x7ebbbce77b50>"
                        ]
                    },
                    "execution_count": 19,
                    "metadata": {},
                    "output_type": "execute_result"
                }
            ],
            "source": [
                "rnn_model = Sequential([\n",
                "    SimpleRNN(64, input_shape=(X_train_padded_.shape[1], X_train_padded_.shape[2])),\n",
                "    Dense(60, activation='softmax')  # Change the number of units to match the number of classes\n",
                "])\n",
                "\n",
                "from keras.optimizers import Adam\n",
                "\n",
                "rnn_model.compile(optimizer='adam', loss='categorical_crossentropy', metrics=['accuracy'])\n",
                "\n",
                "# Train\n",
                "rnn_model.fit(X_train_padded_, y_train, epochs=3, batch_size=256, validation_split=0.2)"
            ]
        },
        {
            "cell_type": "markdown",
            "metadata": {},
            "source": [
                "## LSTM"
            ]
        },
        {
            "cell_type": "code",
            "execution_count": 30,
            "metadata": {
                "execution": {
                    "iopub.execute_input": "2024-04-21T05:58:14.866375Z",
                    "iopub.status.busy": "2024-04-21T05:58:14.865652Z",
                    "iopub.status.idle": "2024-04-21T06:01:17.297639Z",
                    "shell.execute_reply": "2024-04-21T06:01:17.296675Z",
                    "shell.execute_reply.started": "2024-04-21T05:58:14.866338Z"
                },
                "trusted": true
            },
            "outputs": [
                {
                    "name": "stdout",
                    "output_type": "stream",
                    "text": [
                        "Epoch 1/3\n"
                    ]
                },
                {
                    "name": "stderr",
                    "output_type": "stream",
                    "text": [
                        "WARNING: All log messages before absl::InitializeLog() is called are written to STDERR\n",
                        "I0000 00:00:1713678797.863871     367 device_compiler.h:186] Compiled cluster using XLA!  This line is logged at most once for the lifetime of the process.\n"
                    ]
                },
                {
                    "name": "stdout",
                    "output_type": "stream",
                    "text": [
                        "\u001b[1m4/4\u001b[0m \u001b[32m━━━━━━━━━━━━━━━━━━━━\u001b[0m\u001b[37m\u001b[0m \u001b[1m16s\u001b[0m 4s/step - accuracy: 0.7120 - loss: 0.2714 - val_accuracy: 0.6856 - val_loss: 0.3312\n",
                        "Epoch 2/3\n",
                        "\u001b[1m4/4\u001b[0m \u001b[32m━━━━━━━━━━━━━━━━━━━━\u001b[0m\u001b[37m\u001b[0m \u001b[1m12s\u001b[0m 3s/step - accuracy: 0.7158 - loss: 0.2445 - val_accuracy: 0.6924 - val_loss: 0.3245\n",
                        "Epoch 3/3\n",
                        "\u001b[1m4/4\u001b[0m \u001b[32m━━━━━━━━━━━━━━━━━━━━\u001b[0m\u001b[37m\u001b[0m \u001b[1m12s\u001b[0m 3s/step - accuracy: 0.7206 - loss: 0.2365 - val_accuracy: 0.6887 - val_loss: 0.3387\n"
                    ]
                },
                {
                    "data": {
                        "text/plain": [
                            "<keras.src.callbacks.history.History at 0x7ebbbce77e90>"
                        ]
                    },
                    "execution_count": 30,
                    "metadata": {},
                    "output_type": "execute_result"
                }
            ],
            "source": [
                "# LSTM model\n",
                "lstm_model = Sequential([\n",
                "    LSTM(64, input_shape=(X_train_padded_.shape[1], X_train_padded_.shape[2])),\n",
                "    Dense(60, activation='softmax')\n",
                "])\n",
                "\n",
                "lstm_model.compile(optimizer='adam', loss='categorical_crossentropy', metrics=['accuracy'])\n",
                "\n",
                "# Train\n",
                "lstm_model.fit(X_train_padded_, y_train, epochs=3, batch_size=128, validation_split=0.2)"
            ]
        },
        {
            "cell_type": "code",
            "execution_count": null,
            "metadata": {},
            "outputs": [],
            "source": []
        }
    ],
    "metadata": {
        "kaggle": {
            "accelerator": "nvidiaTeslaT4",
            "dataSources": [
                {
                    "datasetId": 4785063,
                    "sourceId": 8102396,
                    "sourceType": "datasetVersion"
                },
                {
                    "datasetId": 4840054,
                    "sourceId": 8176539,
                    "sourceType": "datasetVersion"
                }
            ],
            "dockerImageVersionId": 30684,
            "isGpuEnabled": true,
            "isInternetEnabled": true,
            "language": "python",
            "sourceType": "notebook"
        },
        "kernelspec": {
            "display_name": "Python 3",
            "language": "python",
            "name": "python3"
        },
        "language_info": {
            "codemirror_mode": {
                "name": "ipython",
                "version": 3
            },
            "file_extension": ".py",
            "mimetype": "text/x-python",
            "name": "python",
            "nbconvert_exporter": "python",
            "pygments_lexer": "ipython3",
            "version": "3.10.13"
        }
    },
    "nbformat": 4,
    "nbformat_minor": 4
}
